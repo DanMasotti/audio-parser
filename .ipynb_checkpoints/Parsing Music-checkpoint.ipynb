{
 "cells": [
  {
   "cell_type": "code",
   "execution_count": 1,
   "metadata": {},
   "outputs": [],
   "source": [
    "import numpy as np\n",
    "import matplotlib.pyplot as plt\n",
    "import soundfile\n",
    "import os\n",
    "from itertools import product\n",
    "import time\n",
    "import pickle\n",
    "from scipy.signal import spectrogram"
   ]
  },
  {
   "cell_type": "markdown",
   "metadata": {},
   "source": [
    "## 1"
   ]
  },
  {
   "cell_type": "markdown",
   "metadata": {},
   "source": [
    "Do Problem 5, part 1 (parsing Beran's oboe cadenza) on p. 104 of the\n",
    "book."
   ]
  },
  {
   "cell_type": "code",
   "execution_count": 2,
   "metadata": {},
   "outputs": [],
   "source": [
    "filename = 'fivesec.au'\n",
    "# same as MATLAB's audioread\n",
    "sampled, sample_rate = soundfile.read(filename)"
   ]
  },
  {
   "cell_type": "code",
   "execution_count": 3,
   "metadata": {},
   "outputs": [
    {
     "data": {
      "image/png": "[encoded data removed]",
      "text/plain": [
       "<Figure size 432x288 with 1 Axes>"
      ]
     },
     "metadata": {
      "needs_background": "light"
     },
     "output_type": "display_data"
    }
   ],
   "source": [
    "plt.plot(sampled);"
   ]
  },
  {
   "cell_type": "code",
   "execution_count": 4,
   "metadata": {},
   "outputs": [
    {
     "name": "stdout",
     "output_type": "stream",
     "text": [
      "(40000,)\n"
     ]
    }
   ],
   "source": [
    "print(sampled.shape)"
   ]
  },
  {
   "cell_type": "code",
   "execution_count": 5,
   "metadata": {},
   "outputs": [],
   "source": [
    "# [5 6 7 ... 40]\n",
    "p_list = np.array(range(5,41))\n",
    "\n",
    "def calc_C(n,p):\n",
    "    # s = [ 1  2  3  4  5  6  7  8  9 10]\n",
    "    # n = 8, p =3: s_k -> s_kp = [1 2 3 4 5 6 7 8] -> [ 4  5  6  7  8  9 10  1]\n",
    "    s_k = sampled[:n]\n",
    "    s_kp = np.roll(sampled,-p)[:n]\n",
    "    res = np.dot(s_k,s_kp)\n",
    "    return res\n",
    "\n",
    "#saving the matrix because it takes considerable amount of time\n",
    "if os.path.exists('C_matrix.npy'):\n",
    "    C = np.load('C_matrix.npy')\n",
    "else:\n",
    "    #building n by p C table as suggested in the book\n",
    "    C = np.empty((len(sampled),len(p_list)))\n",
    "    for n in range(len(sampled)):\n",
    "        for p in p_list:\n",
    "            C[n,p-p_list[0]] = calc_C(n,p)\n",
    "    np.save('C_matrix.npy',C)"
   ]
  },
  {
   "cell_type": "markdown",
   "metadata": {},
   "source": [
    "$ \\text{my model: } \\mathbb{P}(K, s |_{[n_0,n_1]},s |_{[n_1,n_2]}, \\dots ,s |_{[n_{K - 1},n_{K}]}) = \n",
    "    \\frac{1}{Z}e^{-a K}\\prod_{k=1}^{K}e^{-\\sum_{i = n_{k-1}}^{n_k-p_k} (s_{i+p_k}-s_i)^2}\n",
    "    \\\\\n",
    "    \\dots \\\\\n",
    "  \\text{corresponding energy function: }V(K,n_{0:K},p_{0:K}) = -\\log(\\mathbb{P}) = aK + \\sum_{k=1}^K\\sum_{i=n_{n_{k-1}}}^{n_k-p_k} \\left( s_{i+p_k}-s_i\\right)^2\n",
    "  \\approx  aK + 2 \\sum_{i=1}^{4000}s_i^2 - 2 \\sum_{k=1}^K (C_{n_k,p_k}-C_{n_{k-1},p_k})\n",
    "  \\\\\n",
    "  \\dots\n",
    "  \\\\\n",
    "  \\text{the optimization problem}: \\min_{K,n_1,\\dots ,n_K,p_1,\\dots ,p_K} \\{ aK - 2 \\sum_{k=1}^K \\left(C_{n_k,p_k}-C_{n_{k-1},p_k}\\right)\\}\n",
    "  \\\\ \n",
    "  \\dots \n",
    "  \\\\ \n",
    "  \\text{by fixing } K: \\min_{n_1,\\dots ,n_K,p_1,\\dots ,p_K} \\{- 2 \\sum_{k=1}^K \\left(C_{n_k,p_k}-C_{n_{k-1},p_k}\\right)\\}\n",
    "$"
   ]
  },
  {
   "cell_type": "markdown",
   "metadata": {},
   "source": [
    "$\n",
    "\\text{let } x_k = \\left[n_k, p_k\\right] \\in S = \\{0,1, \\dots, 39999\\} \\times \\{5,6, \\dots 40\\}\n",
    "\\\\\n",
    "\\dots\n",
    "\\\\\n",
    "\\text{then } f_k(x_k,x_{k+1}) = 2 C \\left[x_k \\left[0 \\right],x_{k+1} \\left[ 1 \\right] \\right] -2C \\left[x_{k+1} \\left[0 \\right],x_{k+1} \\left[1 \\right] \\right]\n",
    "\\\\\n",
    "\\dots\n",
    "\\\\\n",
    "\\text{and } h_{k+1}(x_{k+1}) = \\min_{x_{k} \\in S} \\{ h_{k}(x_{k})+f_k(x_k,x_{k+1})\\}\n",
    "\\\\\n",
    "\\dots\n",
    "\\\\\n",
    "\\text{and }\\phi_{k+1}(x_{k+1}) = \\text{argmin}_{x_{k} \\in S} \\{ h_{k}(x_{k})+f_k(x_k,x_{k+1})\\}\n",
    "$"
   ]
  },
  {
   "cell_type": "code",
   "execution_count": 10,
   "metadata": {},
   "outputs": [],
   "source": [
    "# timestamp space: {0, ..., 40,000}\n",
    "boundary_set = set(list(range(len(sampled))))\n",
    "\n",
    "# period space: {0,1,...,35} since that's how C is indexed\n",
    "period_set = set([p-p_list[0] for p in p_list])\n",
    "\n",
    "dim_sz = len(boundary_set)*len(period_set)\n",
    "\n",
    "#f_k as defined\n",
    "calc_f = lambda x_k, x_kp1: 2*C[x_k[0],x_kp1[1]]-2*C[x_kp1[0],x_kp1[1]]\n",
    "\n",
    "is_logging = True\n",
    "every_other = 10**4"
   ]
  },
  {
   "cell_type": "markdown",
   "metadata": {},
   "source": [
    "The forward pass:"
   ]
  },
  {
   "cell_type": "code",
   "execution_count": 11,
   "metadata": {},
   "outputs": [
    {
     "name": "stdout",
     "output_type": "stream",
     "text": [
      "x2: 0/144000\n",
      "x2: 10000/144000\n",
      "x2: 20000/144000\n",
      "x2: 30000/144000\n",
      "x2: 40000/144000\n",
      "x2: 50000/144000\n",
      "x2: 60000/144000\n",
      "x2: 70000/144000\n",
      "x2: 80000/144000\n",
      "x2: 90000/144000\n",
      "x2: 100000/144000\n",
      "x2: 110000/144000\n",
      "x2: 120000/144000\n",
      "x2: 130000/144000\n",
      "x2: 140000/144000\n"
     ]
    },
    {
     "ename": "IndexError",
     "evalue": "index 40001 is out of bounds for axis 0 with size 40000",
     "output_type": "error",
     "traceback": [
      "\u001b[0;31m---------------------------------------------------------------------------\u001b[0m",
      "\u001b[0;31mIndexError\u001b[0m                                Traceback (most recent call last)",
      "\u001b[0;32m<ipython-input-11-2c0ede5772aa>\u001b[0m in \u001b[0;36m<module>\u001b[0;34m\u001b[0m\n\u001b[1;32m     48\u001b[0m \u001b[0;34m\u001b[0m\u001b[0m\n\u001b[1;32m     49\u001b[0m                 \u001b[0mx_1\u001b[0m \u001b[0;34m=\u001b[0m \u001b[0;34m(\u001b[0m\u001b[0mn_1\u001b[0m\u001b[0;34m,\u001b[0m\u001b[0mp_2\u001b[0m\u001b[0;34m)\u001b[0m\u001b[0;34m\u001b[0m\u001b[0;34m\u001b[0m\u001b[0m\n\u001b[0;32m---> 50\u001b[0;31m                 \u001b[0mf_1\u001b[0m \u001b[0;34m=\u001b[0m \u001b[0mcalc_f\u001b[0m\u001b[0;34m(\u001b[0m\u001b[0mx_1\u001b[0m\u001b[0;34m,\u001b[0m\u001b[0mx_2\u001b[0m\u001b[0;34m)\u001b[0m\u001b[0;34m\u001b[0m\u001b[0;34m\u001b[0m\u001b[0m\n\u001b[0m\u001b[1;32m     51\u001b[0m \u001b[0;34m\u001b[0m\u001b[0m\n\u001b[1;32m     52\u001b[0m                 \u001b[0;31m# changing to index space wrt S\u001b[0m\u001b[0;34m\u001b[0m\u001b[0;34m\u001b[0m\u001b[0;34m\u001b[0m\u001b[0m\n",
      "\u001b[0;32m<ipython-input-10-dcac417978c6>\u001b[0m in \u001b[0;36m<lambda>\u001b[0;34m(x_k, x_kp1)\u001b[0m\n\u001b[1;32m      8\u001b[0m \u001b[0;34m\u001b[0m\u001b[0m\n\u001b[1;32m      9\u001b[0m \u001b[0;31m#f_k as defined\u001b[0m\u001b[0;34m\u001b[0m\u001b[0;34m\u001b[0m\u001b[0;34m\u001b[0m\u001b[0m\n\u001b[0;32m---> 10\u001b[0;31m \u001b[0mcalc_f\u001b[0m \u001b[0;34m=\u001b[0m \u001b[0;32mlambda\u001b[0m \u001b[0mx_k\u001b[0m\u001b[0;34m,\u001b[0m \u001b[0mx_kp1\u001b[0m\u001b[0;34m:\u001b[0m \u001b[0;36m2\u001b[0m\u001b[0;34m*\u001b[0m\u001b[0mC\u001b[0m\u001b[0;34m[\u001b[0m\u001b[0mx_k\u001b[0m\u001b[0;34m[\u001b[0m\u001b[0;36m0\u001b[0m\u001b[0;34m]\u001b[0m\u001b[0;34m,\u001b[0m\u001b[0mx_kp1\u001b[0m\u001b[0;34m[\u001b[0m\u001b[0;36m1\u001b[0m\u001b[0;34m]\u001b[0m\u001b[0;34m]\u001b[0m\u001b[0;34m-\u001b[0m\u001b[0;36m2\u001b[0m\u001b[0;34m*\u001b[0m\u001b[0mC\u001b[0m\u001b[0;34m[\u001b[0m\u001b[0mx_kp1\u001b[0m\u001b[0;34m[\u001b[0m\u001b[0;36m0\u001b[0m\u001b[0;34m]\u001b[0m\u001b[0;34m,\u001b[0m\u001b[0mx_kp1\u001b[0m\u001b[0;34m[\u001b[0m\u001b[0;36m1\u001b[0m\u001b[0;34m]\u001b[0m\u001b[0;34m]\u001b[0m\u001b[0;34m\u001b[0m\u001b[0;34m\u001b[0m\u001b[0m\n\u001b[0m\u001b[1;32m     11\u001b[0m \u001b[0;34m\u001b[0m\u001b[0m\n\u001b[1;32m     12\u001b[0m \u001b[0mis_logging\u001b[0m \u001b[0;34m=\u001b[0m \u001b[0;32mTrue\u001b[0m\u001b[0;34m\u001b[0m\u001b[0;34m\u001b[0m\u001b[0m\n",
      "\u001b[0;31mIndexError\u001b[0m: index 40001 is out of bounds for axis 0 with size 40000"
     ]
    }
   ],
   "source": [
    "# saving because this is time-intensive\n",
    "if os.path.exists('h_2.npy') and os.path.exists('phi_2.npy'):\n",
    "    \n",
    "    h_2 = np.load('h_2.npy')\n",
    "    phi_2 = np.load('phi_2.npy')\n",
    "    \n",
    "    # getting the exact sets I used for that h2, ph2\n",
    "    with open('x_to_i.pickle', 'rb') as file:\n",
    "        x_to_i = pickle.load(file)\n",
    "        \n",
    "    with open('i_to_x.pickle', 'rb') as file:\n",
    "        i_to_x = pickle.load(file)\n",
    "    \n",
    "else:\n",
    "    \n",
    "    start_time = time.time()\n",
    "    \n",
    "    S = product(boundary_set,period_set)\n",
    "    # i_to_x : i ----> (ni,pi)\n",
    "    i_to_x = dict(zip( range(dim_sz), (x for x in S )))\n",
    "\n",
    "    S = product(boundary_set,period_set)\n",
    "    # x_to_i : (ni,pi) ----> i\n",
    "    x_to_i = dict(zip( (x for x in S), range(dim_sz) ))\n",
    "    \n",
    "    max_val = 10**5\n",
    "    step_sz = 10\n",
    "    \n",
    "    # using max vals so any val not hit by step size is ignored in min\n",
    "    h_2 = max_val + np.zeros((dim_sz,1))\n",
    "    phi_2 = np.zeros((dim_sz,1))\n",
    "    \n",
    "    iters = -1\n",
    "    # for x_k+1 in h_k+1(x_k+1)\n",
    "    for n_2 in range(1,dim_sz,step_sz):\n",
    "        for p_2 in range(len(p_list)):\n",
    "            \n",
    "            x_2 = (n_2,p_2)\n",
    "\n",
    "            if is_logging:\n",
    "                iters = iters + 1\n",
    "                if iters%(every_other) == 0:\n",
    "                    print('x2: {}/{}'.format(iters,int(dim_sz//step_sz)))\n",
    "\n",
    "            # find the min_x_k h_k+1 for that particular x_k+1\n",
    "            min_val = np.inf\n",
    "            for n_1 in range(n_2):\n",
    "\n",
    "                x_1 = (n_1,p_2)  \n",
    "                f_1 = calc_f(x_1,x_2)\n",
    "\n",
    "                # changing to index space wrt S\n",
    "                i_2 = x_to_i[x_2]\n",
    "                i_1 = x_to_i[x_1]\n",
    "\n",
    "                if f_1 < min_val:\n",
    "                    h_2[i_2] = f_1\n",
    "                    phi_2[i_2] = i_1\n",
    "                    min_val = f_1\n",
    "\n",
    "    # more logging\n",
    "    elapsed_time = time.time() - start_time\n",
    "    print('completed forward pass in {} minutes'.format(elapsed_time/60))\n",
    "    \n",
    "    # saving for next time\n",
    "    np.save('h_2.npy',h_2)\n",
    "    \n",
    "    np.save('phi_2.npy',phi_2)\n",
    "    \n",
    "    with open('i_to_x.pickle', 'wb') as file:\n",
    "        pickle.dump(i_to_x, file, protocol=pickle.HIGHEST_PROTOCOL)\n",
    "        \n",
    "    with open('x_to_i.pickle', 'wb') as file:\n",
    "        pickle.dump(x_to_i, file, protocol=pickle.HIGHEST_PROTOCOL)"
   ]
  },
  {
   "cell_type": "code",
   "execution_count": null,
   "metadata": {},
   "outputs": [],
   "source": []
  },
  {
   "cell_type": "markdown",
   "metadata": {},
   "source": [
    "Finding the a that makes K = 22 the minimum"
   ]
  },
  {
   "cell_type": "code",
   "execution_count": null,
   "metadata": {},
   "outputs": [],
   "source": [
    "possible_Ks = range(19,26)\n",
    "\n",
    "min_val = np.inf\n",
    "best_K = 0\n",
    "h_1 = np.zeros((dim_sz,1))\n",
    "a = .1\n",
    "for K in possible_Ks:\n",
    "    H = np.repeat(h_2, K-1, axis = 1)\n",
    "    h_1 = h_1 + a*K\n",
    "    H = np.cumsum(np.hstack(h_1,H),axis = 0)\n",
    "    h_K = H[:,-1]\n",
    "    val = np.squeeze(np.cumsum(h_K))\n",
    "    if val < min_val:\n",
    "        min_val = val\n",
    "        best_K = K\n",
    "\n",
    "print(best_K)\n",
    "K = best_K"
   ]
  },
  {
   "cell_type": "markdown",
   "metadata": {},
   "source": [
    "$\n",
    "h = \\min_{x_K \\in S}(h_K(x_K))\n",
    "\\\\\n",
    "\\bar{x}_K = \\text{argmin}_{x_K \\in S}\\left(h_K(x_K)\\right)\n",
    "\\\\\n",
    "\\bar{x}_{K-1} = \\phi_{K}(\\bar{x}_K)\n",
    "\\\\\n",
    "\\dots\n",
    "\\\\\n",
    "\\bar{x}_{1} = \\phi_{2}(\\bar{x}_2)\n",
    "$"
   ]
  },
  {
   "cell_type": "markdown",
   "metadata": {},
   "source": [
    "Backward pass:"
   ]
  },
  {
   "cell_type": "code",
   "execution_count": null,
   "metadata": {},
   "outputs": [],
   "source": [
    "H = np.repeat(h_2, K-1, axis = 1)\n",
    "\n",
    "h_1 = h_1 + a*K\n",
    "H = np.cumsum(np.hstack((h_1,H)), axis = 0)\n",
    "\n",
    "Phi = np.repeat(phi_2,K, axis = 1)\n",
    "\n",
    "phi_K = Phi[:,-1]\n",
    "indices = []\n",
    "for i in phi_K:\n",
    "    n_i, p_i = i_to_x[i]\n",
    "    # if its the last note boundary \n",
    "    if n_i == len(sampled)-1:\n",
    "        indices.append(i)\n",
    "\n",
    "\n",
    "print(indices)\n",
    "h_K = H[:,-1]\n",
    "print(h_K)\n",
    "\n",
    "max_val = np.inf\n",
    "for idx in range(len(h_K)):\n",
    "    if idx not in indices:\n",
    "        h_K[idx] = max_val\n",
    "\n",
    "        \n",
    "print(h_K)\n",
    "i_bar = np.argmin(h_K)\n",
    "I = [].append(i_bar)\n",
    "curr = i_bar\n",
    "for i in range(K):\n",
    "    k = K-i\n",
    "    phi_k = Phi[:,k]\n",
    "    i_bar = phi_k[curr]\n",
    "    I = I.append(i_bar)\n",
    "    curr = i_bar\n",
    "\n",
    "X = []\n",
    "for i in I:\n",
    "    X = X.append(i_to_x[i])"
   ]
  },
  {
   "cell_type": "code",
   "execution_count": null,
   "metadata": {},
   "outputs": [],
   "source": [
    "X = np.array(X)\n",
    "N = X[:,0]\n",
    "F = 1./(X[:,1]+p_list[0])\n",
    "grid = np.linspace(0,len(sampled),1)\n",
    "y = np.zeros(grid.shape)\n",
    "\n",
    "start = 0\n",
    "for k,end in enumerate(N):\n",
    "    y[start:end] = F[k]\n",
    "    start = end\n",
    "\n",
    "plt.plot(x,y)\n",
    "plt.ylabel('Frequency [Hz]')\n",
    "plt.xlabel('Time [sec]')\n",
    "plt.show()\n",
    "\n",
    "f,t, Sxx = spectrogram(sampled, sample_rate)\n",
    "plt.pcolormesh(t, f, Sxx)\n",
    "plt.ylabel('Frequency [Hz]')\n",
    "plt.xlabel('Time [sec]')\n",
    "plt.show()\n",
    "\n"
   ]
  },
  {
   "cell_type": "code",
   "execution_count": null,
   "metadata": {},
   "outputs": [],
   "source": []
  },
  {
   "cell_type": "code",
   "execution_count": null,
   "metadata": {},
   "outputs": [],
   "source": []
  },
  {
   "cell_type": "code",
   "execution_count": null,
   "metadata": {},
   "outputs": [],
   "source": []
  }
 ],
 "metadata": {
  "kernelspec": {
   "display_name": "Python 3",
   "language": "python",
   "name": "python3"
  },
  "language_info": {
   "codemirror_mode": {
    "name": "ipython",
    "version": 3
   },
   "file_extension": ".py",
   "mimetype": "text/x-python",
   "name": "python",
   "nbconvert_exporter": "python",
   "pygments_lexer": "ipython3",
   "version": "3.7.3"
  }
 },
 "nbformat": 4,
 "nbformat_minor": 2
}
