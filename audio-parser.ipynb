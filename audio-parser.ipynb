{
 "cells": [
  {
   "cell_type": "code",
   "execution_count": 1,
   "metadata": {},
   "outputs": [],
   "source": [
    "import numpy as np\n",
    "import matplotlib.pyplot as plt\n",
    "import soundfile\n",
    "import os\n",
    "from itertools import product\n",
    "import time\n",
    "import pickle\n",
    "from scipy.signal import spectrogram\n",
    "import pandas as pd\n",
    "np.random.seed(7)"
   ]
  },
  {
   "cell_type": "code",
   "execution_count": 2,
   "metadata": {},
   "outputs": [],
   "source": [
    "filename = 'fivesec.au'\n",
    "# same as MATLAB's audioread\n",
    "sampled, sample_rate = soundfile.read(filename)"
   ]
  },
  {
   "cell_type": "code",
   "execution_count": 3,
   "metadata": {},
   "outputs": [
    {
     "data": {
      "image/png": "[encoded data removed]",
      "text/plain": [
       "<Figure size 432x288 with 1 Axes>"
      ]
     },
     "metadata": {
      "needs_background": "light"
     },
     "output_type": "display_data"
    }
   ],
   "source": [
    "plt.plot(sampled);"
   ]
  },
  {
   "cell_type": "code",
   "execution_count": 4,
   "metadata": {},
   "outputs": [
    {
     "name": "stdout",
     "output_type": "stream",
     "text": [
      "(40000,)\n"
     ]
    }
   ],
   "source": [
    "print(sampled.shape)"
   ]
  },
  {
   "cell_type": "code",
   "execution_count": 5,
   "metadata": {},
   "outputs": [],
   "source": [
    "# [5 6 7 ... 40]\n",
    "p_list = np.array(range(5,41))\n",
    "\n",
    "def calc_C(n,p):\n",
    "    # s = [ 1  2  3  4  5  6  7  8  9 10]\n",
    "    # n = 8, p =3: s_k -> s_kp = [1 2 3 4 5 6 7 8] -> [ 4  5  6  7  8  9 10  1]\n",
    "    s_k = sampled[:n]\n",
    "    s_kp = np.roll(sampled,-p)[:n]\n",
    "    res = np.dot(s_k,s_kp)\n",
    "    return res\n",
    "\n",
    "#saving the matrix because it takes considerable amount of time\n",
    "if os.path.exists('C_matrix.npy'):\n",
    "    C = np.load('C_matrix.npy')\n",
    "else:\n",
    "    #building n by p C table as suggested in the book\n",
    "    C = np.empty((len(sampled),len(p_list)))\n",
    "    for n in range(len(sampled)):\n",
    "        for p in p_list:\n",
    "            C[n,p-p_list[0]] = calc_C(n,p)\n",
    "    np.save('C_matrix.npy',C)"
   ]
  },
  {
   "cell_type": "markdown",
   "metadata": {},
   "source": [
    "$ \\text{my model: } \\mathbb{P}(K, s |_{[n_0,n_1]},s |_{[n_1,n_2]}, \\dots ,s |_{[n_{K - 1},n_{K}]}) = \n",
    "    \\frac{1}{Z}e^{-a K}\\prod_{k=1}^{K}e^{-\\sum_{i = n_{k-1}}^{n_k-p_k} (s_{i+p_k}-s_i)^2}\n",
    "    \\\\\n",
    "    \\dots \\\\\n",
    "  \\text{corresponding energy function: }V(K,n_{0:K},p_{0:K}) = -\\log(\\mathbb{P}) = aK + \\sum_{k=1}^K\\sum_{i=n_{n_{k-1}}}^{n_k-p_k} \\left( s_{i+p_k}-s_i\\right)^2\n",
    "  \\approx  aK + 2 \\sum_{i=1}^{4000}s_i^2 - 2 \\sum_{k=1}^K (C_{n_k,p_k}-C_{n_{k-1},p_k})\n",
    "  \\\\\n",
    "  \\dots\n",
    "  \\\\\n",
    "  \\text{the optimization problem}: \\min_{K,n_1,\\dots ,n_K,p_1,\\dots ,p_K} \\{ aK - 2 \\sum_{k=1}^K \\left(C_{n_k,p_k}-C_{n_{k-1},p_k}\\right)\\}\n",
    "  \\\\ \n",
    "  \\dots \n",
    "  \\\\ \n",
    "  \\text{by fixing } K: \\min_{n_1,\\dots ,n_K,p_1,\\dots ,p_K} \\{- 2 \\sum_{k=1}^K \\left(C_{n_k,p_k}-C_{n_{k-1},p_k}\\right)\\}\n",
    "$"
   ]
  },
  {
   "cell_type": "markdown",
   "metadata": {},
   "source": [
    "$\n",
    "\\text{let } x_k = \\left[n_k, p_k\\right] \\in S = \\{0,1, \\dots, 39999\\} \\times \\{5,6, \\dots 40\\}\n",
    "\\\\\n",
    "\\dots\n",
    "\\\\\n",
    "\\text{then } f_k(x_k,x_{k+1}) = 2 C \\left[x_k \\left[0 \\right],x_{k+1} \\left[ 1 \\right] \\right] -2C \\left[x_{k+1} \\left[0 \\right],x_{k+1} \\left[1 \\right] \\right]\n",
    "\\\\\n",
    "\\dots\n",
    "\\\\\n",
    "\\text{and } h_{k+1}(x_{k+1}) = \\min_{x_{k} \\in S} \\{ h_{k}(x_{k})+f_k(x_k,x_{k+1})\\}\n",
    "\\\\\n",
    "\\dots\n",
    "\\\\\n",
    "\\text{and }\\phi_{k+1}(x_{k+1}) = \\text{argmin}_{x_{k} \\in S} \\{ h_{k}(x_{k})+f_k(x_k,x_{k+1})\\}\n",
    "$"
   ]
  },
  {
   "cell_type": "code",
   "execution_count": 15,
   "metadata": {},
   "outputs": [],
   "source": [
    "# timestamp space: {0, ..., 40,000}\n",
    "boundary_set = set(list(range(len(sampled))))\n",
    "\n",
    "# period space: {0,1,...,35} since that's how C is indexed\n",
    "period_set = set([p-p_list[0] for p in p_list])\n",
    "\n",
    "dim_sz = len(boundary_set)*len(period_set)\n",
    "\n",
    "#f_k as defined\n",
    "calc_f = lambda x_k, x_kp1: 2*C[x_k[0],x_kp1[1]]-2*C[x_kp1[0],x_kp1[1]]\n",
    "\n",
    "is_logging = False\n",
    "every_other = 10**3\n",
    "\n",
    "# anything less takes more than ~30min on my computer\n",
    "step_sz = 100"
   ]
  },
  {
   "cell_type": "markdown",
   "metadata": {},
   "source": [
    "The forward pass:for each possible value x_k+1 could be, find the minimizer x_k"
   ]
  },
  {
   "cell_type": "code",
   "execution_count": 16,
   "metadata": {},
   "outputs": [],
   "source": [
    "# saving because this is very time-consuming\n",
    "if os.path.exists('h_2.npy') and os.path.exists('phi_2.npy'):\n",
    "    \n",
    "    h_2 = np.load('h_2.npy')\n",
    "    phi_2 = np.load('phi_2.npy')\n",
    "    \n",
    "    # getting the exact sets I used for that h2, ph2\n",
    "    with open('x_to_i.pickle', 'rb') as file:\n",
    "        x_to_i = pickle.load(file)\n",
    "        \n",
    "    with open('i_to_x.pickle', 'rb') as file:\n",
    "        i_to_x = pickle.load(file)\n",
    "    \n",
    "else:\n",
    "    \n",
    "    start_time = time.time()\n",
    "    \n",
    "    S = product(boundary_set,period_set)\n",
    "    # i_to_x : i ----> (ni,pi)\n",
    "    i_to_x = dict(zip( range(dim_sz), (x for x in S )))\n",
    "\n",
    "    # x_to_i : (ni,pi) ----> i\n",
    "    S = product(boundary_set,period_set)\n",
    "    x_to_i = dict(zip( (x for x in S), range(dim_sz) ))\n",
    "    \n",
    "    max_val = np.inf\n",
    "    \n",
    "    \n",
    "    h_2 = np.empty((dim_sz,1))\n",
    "    h_2.fill(np.nan)\n",
    "\n",
    "    phi_2 = np.zeros((dim_sz,1))\n",
    "    \n",
    "    # for x_k+1 in h_k+1(x_k+1)\n",
    "    iters = -1\n",
    "    for n_2 in range(0,len(sampled),step_sz):\n",
    "        \n",
    "        # logging \n",
    "        if is_logging:\n",
    "            iters = iters + 1\n",
    "            if iters%(every_other) == 0:\n",
    "                print('x2 #',iters)\n",
    "        \n",
    "        for p_2 in range(len(p_list)):\n",
    "            \n",
    "            x_2 = (n_2,p_2)\n",
    "\n",
    "            # find the min_x_k h_k+1 for that particular x_k+1\n",
    "            min_val = np.inf\n",
    "            for n_1 in range(n_2):\n",
    "\n",
    "                x_1 = (n_1,p_2)  \n",
    "                f_1 = calc_f(x_1,x_2)\n",
    "\n",
    "                # changing to index space wrt S\n",
    "                i_2 = x_to_i[x_2]\n",
    "                i_1 = x_to_i[x_1]\n",
    "\n",
    "                if f_1 < min_val:\n",
    "                    h_2[i_2] = f_1\n",
    "                    phi_2[i_2] = i_1\n",
    "                    min_val = f_1\n",
    "\n",
    "    # more logging\n",
    "    elapsed_time = time.time() - start_time\n",
    "    print('completed forward pass in {} minutes'.format(elapsed_time/60))\n",
    "    \n",
    "    # saving for next time\n",
    "    np.save('h_2.npy',h_2)\n",
    "    \n",
    "    np.save('phi_2.npy',phi_2)\n",
    "    \n",
    "    with open('i_to_x.pickle', 'wb') as file:\n",
    "        pickle.dump(i_to_x, file, protocol=pickle.HIGHEST_PROTOCOL)\n",
    "        \n",
    "    with open('x_to_i.pickle', 'wb') as file:\n",
    "        pickle.dump(x_to_i, file, protocol=pickle.HIGHEST_PROTOCOL)"
   ]
  },
  {
   "cell_type": "markdown",
   "metadata": {},
   "source": [
    "Finding the a that makes K = 22 the minimum"
   ]
  },
  {
   "cell_type": "code",
   "execution_count": 17,
   "metadata": {},
   "outputs": [],
   "source": [
    "######################### THIS DIDN'T WORK ##############################\n",
    "possible_Ks = range(15,30)\n",
    "\n",
    "min_val = np.inf\n",
    "best_K = 0\n",
    "\n",
    "a = .001\n",
    "for K in possible_Ks:\n",
    "    \n",
    "    H = np.repeat(h_2, K, axis = 1)\n",
    "    h_1 = np.zeros((dim_sz,1)) + a*K\n",
    "    H = np.nancumsum(np.hstack((h_1,H)),axis = 1)\n",
    "    \n",
    "    h_K = H[:,-1]\n",
    "    \n",
    "    val = np.nanmin(h_K)\n",
    "\n",
    "    if val < min_val:\n",
    "        min_val = val\n",
    "        best_K = K\n",
    "\n",
    "K = best_K"
   ]
  },
  {
   "cell_type": "markdown",
   "metadata": {},
   "source": [
    "$\n",
    "h = \\min_{x_K \\in S}(h_K(x_K))\n",
    "\\\\\n",
    "\\bar{x}_K = \\text{argmin}_{x_K \\in S}\\left(h_K(x_K)\\right)\n",
    "\\\\\n",
    "\\bar{x}_{K-1} = \\phi_{K}(\\bar{x}_K)\n",
    "\\\\\n",
    "\\dots\n",
    "\\\\\n",
    "\\bar{x}_{1} = \\phi_{2}(\\bar{x}_2)\n",
    "$"
   ]
  },
  {
   "cell_type": "markdown",
   "metadata": {},
   "source": [
    "Since we know that the last note boundary is the end of the signal, we can minimize over h_K, and work backwards from there.  Each h is identical, so the induction remains the same"
   ]
  },
  {
   "cell_type": "code",
   "execution_count": 18,
   "metadata": {},
   "outputs": [],
   "source": [
    "K = 22\n",
    "\n",
    "nnzs = phi_2[phi_2 > 0]\n",
    "Ns = np.array([i_to_x[idx] for idx in nnzs])\n",
    "max_timestamp = np.amax(Ns)\n",
    "\n",
    "H = np.repeat(h_2, K, axis = 1)\n",
    "h_1 = np.zeros((dim_sz,1)) + a*K\n",
    "H = np.nancumsum(np.hstack((h_1,H)),axis = 1)\n",
    "\n",
    "Phi = np.repeat(phi_2,K,axis = 1)\n",
    "phi_K = Phi[:,-1]\n",
    "\n",
    "h_K = H[:,-1]\n",
    "\n",
    "indices = []\n",
    "phi_K = phi_2\n",
    "# getting the indices for the last note boundary\n",
    "for idx in range(dim_sz):\n",
    "    i = phi_K[int(idx)]\n",
    "    if np.isfinite(i):\n",
    "        x = i_to_x[int(i)]\n",
    "        # if it's not the last timestamp\n",
    "        if x[0] != max_timestamp:\n",
    "            indices.append(idx)\n",
    "\n",
    "# copy\n",
    "h_K = h_2\n",
    "# for the first minimization, we already know the last note boundary\n",
    "h_K[indices] = np.inf"
   ]
  },
  {
   "cell_type": "code",
   "execution_count": 19,
   "metadata": {},
   "outputs": [],
   "source": [
    "######################### THIS DIDN'T WORK CORRECTLY ##############################\n",
    "\n",
    "X = []\n",
    "# last step of forward pass\n",
    "i_bar = np.nanargmin(h_2)\n",
    "x_bar = i_to_x[i_bar]\n",
    "X.append(x_bar)\n",
    "\n",
    "# backward induction\n",
    "phi_2 = phi_2[phi_2>0]\n",
    "for k in reversed(range(1,K)):\n",
    "    i_bar = int(phi_2[i_bar//step_sz-1])\n",
    "    x_bar = i_to_x[i_bar*step_sz]\n",
    "    X.append(x_bar)"
   ]
  },
  {
   "cell_type": "code",
   "execution_count": 20,
   "metadata": {},
   "outputs": [
    {
     "data": {
      "image/png": "[encoded data removed]",
      "text/plain": [
       "<Figure size 432x288 with 1 Axes>"
      ]
     },
     "metadata": {
      "needs_background": "light"
     },
     "output_type": "display_data"
    }
   ],
   "source": [
    "######################### OBVIOUSLY WRONG PLOT ##############################\n",
    "\n",
    "X = np.array(X)\n",
    "X = X[X[:,0].argsort()]\n",
    "N = sorted(X[:,0])\n",
    "F = (1/(X[:,1]+p_list[0]))\n",
    "grid = np.linspace(0,len(sampled))\n",
    "\n",
    "y = np.zeros(grid.shape)\n",
    "\n",
    "for i,x in enumerate(grid):\n",
    "    for k in range(1,K):\n",
    "        if N[k-1] < x and x < N[k]:\n",
    "            y[i] = F[k]\n",
    "\n",
    "plt.plot(grid,y)\n",
    "plt.ylabel('Frequency')\n",
    "plt.xlabel('Time [sec]')\n",
    "plt.show()"
   ]
  },
  {
   "cell_type": "code",
   "execution_count": 21,
   "metadata": {},
   "outputs": [
    {
     "data": {
      "image/png": "[encoded data removed]",
      "text/plain": [
       "<Figure size 432x288 with 1 Axes>"
      ]
     },
     "metadata": {
      "needs_background": "light"
     },
     "output_type": "display_data"
    }
   ],
   "source": [
    "f,t, Sxx = spectrogram(sampled, sample_rate)\n",
    "plt.pcolormesh(t, f, Sxx)\n",
    "plt.ylabel('Frequency [Hz]')\n",
    "plt.xlabel('Time [sec]')\n",
    "plt.show()"
   ]
  },
  {
   "cell_type": "code",
   "execution_count": null,
   "metadata": {},
   "outputs": [],
   "source": []
  }
 ],
 "metadata": {
  "kernelspec": {
   "display_name": "Python 3",
   "language": "python",
   "name": "python3"
  },
  "language_info": {
   "codemirror_mode": {
    "name": "ipython",
    "version": 3
   },
   "file_extension": ".py",
   "mimetype": "text/x-python",
   "name": "python",
   "nbconvert_exporter": "python",
   "pygments_lexer": "ipython3",
   "version": "3.7.3"
  }
 },
 "nbformat": 4,
 "nbformat_minor": 2
}
